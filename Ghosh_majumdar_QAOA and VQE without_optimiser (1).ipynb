{
 "cells": [
  {
   "cell_type": "code",
   "execution_count": 91,
   "id": "c5e7aad7",
   "metadata": {},
   "outputs": [],
   "source": [
    "from qiskit.quantum_info import SparsePauliOp\n",
    "a=-0.1#float(input(\"Enter the value of alpha:\"))\n",
    "j=1#float(input(\"Enter the value of J:\"))\n",
    "H_z=SparsePauliOp.from_list([('IIZZ',j),('IZZI',j),('ZZII',j),('ZIIZ',j),('IZIZ',a*j),('ZIZI',a*j)])\n",
    "H_x=SparsePauliOp.from_list([('IIXX',j),('IXXI',j),('XXII',j),('XIIX',j),('IXIX',a*j),('XIXI',a*j)])\n",
    "H_y=SparsePauliOp.from_list([('IIYY',j),('IYYI',j),('YYII',j),('YIIY',j),('IYIY',a*j),('YIYI',a*j)])\n",
    "hamiltonian=H_x+H_y+H_z"
   ]
  },
  {
   "cell_type": "code",
   "execution_count": 92,
   "id": "5ca1581e",
   "metadata": {},
   "outputs": [],
   "source": [
    "from qiskit.circuit.library import QAOAAnsatz,EfficientSU2\n",
    "from qiskit.transpiler.preset_passmanagers import generate_preset_pass_manager\n",
    "from qiskit_ibm_runtime import QiskitRuntimeService, Estimator\n",
    "\n",
    "service = QiskitRuntimeService()\n",
    "backend = service.least_busy(operational=True, simulator=False)"
   ]
  },
  {
   "cell_type": "code",
   "execution_count": 93,
   "id": "e855a1a3",
   "metadata": {},
   "outputs": [],
   "source": [
    "#QAOA ansatz parameters\n",
    "#optimised parameters\n",
    "theta1= [ 1.38684792,  4.71815379,  5.1955337 ,  2.81505774,  5.54081294,\n",
    "        3.65764277,  2.94022964, -5.66795214, -1.19603113,  3.71736527]\n",
    "\n",
    "#unoptimised/random parameters\n",
    "theta2=[ 3.18811673e-01,  3.71574924e+00,  4.91507708e+00,  4.10014814e+00,\n",
    "        2.35620626e-03, -4.40751099e-01, -5.14034744e+00, -3.85325702e+00,\n",
    "        1.76417911e+00, -4.13018813e+00]\n",
    "\n",
    "#semioptimised parameters\n",
    "theta3=[ 5.41221168e+00,  3.09268073e+00,  1.69005444e+00,  2.92075991e+00,\n",
    "        1.05231218e+00,  4.47644271e+03,  2.09285202e+04, -4.35150366e+02,\n",
    "       -1.07147755e+03, -3.80464401e+03]"
   ]
  },
  {
   "cell_type": "code",
   "execution_count": 94,
   "id": "0dbfa43c",
   "metadata": {},
   "outputs": [],
   "source": [
    "#EfficientSU2 ansatz parameters\n",
    "#optimised parameters\n",
    "theta4=[-2.8266564 , -3.13407933,  2.61085316, -0.11746563,  1.35511505,\n",
    "        0.550615  ,  1.18968703,  2.9758423 ,  2.31668326,  0.10281567,\n",
    "        1.81412336,  2.92500781, -1.70427766,  2.89010607,  1.70025257,\n",
    "        1.83630034, -0.40907205,  1.43997164,  0.57360503,  1.09171809,\n",
    "       -0.81921012,  2.1208924 ,  1.39237549,  1.25764986,  0.20589422,\n",
    "        2.44965689,  1.54972208, -0.17529336,  1.2239305 , -2.01536281,\n",
    "        3.14079523,  0.59181308, -1.7411251 , -1.86236206,  1.30262758,\n",
    "        0.45495128,  0.97569567, -1.76797766, -1.27535669, -1.50693083,\n",
    "       -0.07287223, -2.85458363,  0.38738485, -3.0172031 , -2.31894707,\n",
    "        1.76531595,  2.52018897,  3.04363669]\n",
    "#unoptimised/random parameters\n",
    "theta5=[-0.42460481,  0.10015925,  0.02516064,  1.46677671,  1.47426429,\n",
    "       -2.90862465,  2.91307923,  0.15382639, -1.07329674, -0.41394104,\n",
    "       -2.26064863, -1.02903633, -2.4770042 ,  2.67599274,  2.66254868,\n",
    "        3.08716381, -0.01955244, -0.26958608, -1.70647119,  2.52656215,\n",
    "        0.38561245,  1.99492168,  2.94066229, -3.03871018, -2.67268977,\n",
    "       -1.37413109, -2.01314074, -1.71096286, -0.09980921,  0.33155178,\n",
    "        2.08237522,  0.19488875,  1.25306982,  2.37799985, -1.41581474,\n",
    "        2.81652794,  0.56761778,  2.16317226, -2.26895932, -0.64181942,\n",
    "       -2.09981362,  3.02316214, -1.58258047, -0.92131062,  2.13215558,\n",
    "        0.77703431, -0.72884201,  2.85670204]\n",
    "#semioptimised parameters\n",
    "theta6=[ 1.4069061 , -1.85519084, -0.39681994,  0.64621524,  2.91452562,\n",
    "        0.8945616 , -2.61258861,  1.4843819 , -0.23524628, -2.58486456,\n",
    "       -0.17265946, -1.76729787,  0.49671256,  2.70113273, -2.62052214,\n",
    "       -1.56512988,  0.54060762,  0.71061121, -0.6087021 ,  0.76211731,\n",
    "        1.34140104,  2.24806053,  1.9685591 ,  2.99611165,  1.1265912 ,\n",
    "       -2.02879808, -2.08653089,  1.50117786, -2.98131772,  0.50146195,\n",
    "       -0.85774548,  0.98849495,  1.36786824, -2.92815174, -0.74974056,\n",
    "       -0.24197039, -2.85596922,  0.97497039, -2.1029854 , -1.99609237,\n",
    "        0.56184173, -1.91132681,  2.68022374,  0.33164594, -1.59874629,\n",
    "       -0.8437977 , -2.82307569,  1.59569365]"
   ]
  },
  {
   "cell_type": "code",
   "execution_count": 108,
   "id": "f17d8e3f",
   "metadata": {},
   "outputs": [],
   "source": [
    "params=theta1\n",
    "psi= QAOAAnsatz(hamiltonian,reps=5)#EfficientSU2(4,reps=5)#use this to run VQE\n",
    "pm = generate_preset_pass_manager(backend=backend, optimization_level=2)\n",
    "isa_psi = pm.run(psi)\n",
    "isa_observables = hamiltonian.apply_layout(isa_psi.layout)\n",
    "\n",
    "estimator = Estimator(backend=backend)\n",
    "job=estimator.run(circuits=isa_psi, observables=isa_observables, parameter_values=params)"
   ]
  },
  {
   "cell_type": "code",
   "execution_count": null,
   "id": "6001173f",
   "metadata": {},
   "outputs": [],
   "source": [
    "pub_result = job.result()\n",
    "pub_result"
   ]
  },
  {
   "cell_type": "code",
   "execution_count": 107,
   "id": "c64ab39e",
   "metadata": {},
   "outputs": [
    {
     "data": {
      "text/plain": [
       "EstimatorResult(values=array([-8.18333353]), metadata=[{'variance': 0.024034284523125393, 'shots': 30}])"
      ]
     },
     "execution_count": 107,
     "metadata": {},
     "output_type": "execute_result"
    }
   ],
   "source": [
    "#to run it on simulator\n",
    "from qiskit.circuit.library import QAOAAnsatz\n",
    "from qiskit.primitives import Estimator\n",
    "psi= QAOAAnsatz(hamiltonian,reps=5)\n",
    "#psi=EfficientSU2(4,reps=5)  #use this to run VQE\n",
    "exact_estimator = Estimator()\n",
    "job = exact_estimator.run(psi, hamiltonian, theta4,shots=30)#change theta parameters accordingly\n",
    "exact_value = job.result()\n",
    "exact_value\n"
   ]
  },
  {
   "cell_type": "code",
   "execution_count": null,
   "id": "dca6a980",
   "metadata": {},
   "outputs": [],
   "source": []
  }
 ],
 "metadata": {
  "kernelspec": {
   "display_name": "Python 3 (ipykernel)",
   "language": "python",
   "name": "python3"
  },
  "language_info": {
   "codemirror_mode": {
    "name": "ipython",
    "version": 3
   },
   "file_extension": ".py",
   "mimetype": "text/x-python",
   "name": "python",
   "nbconvert_exporter": "python",
   "pygments_lexer": "ipython3",
   "version": "3.11.5"
  }
 },
 "nbformat": 4,
 "nbformat_minor": 5
}
